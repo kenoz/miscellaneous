{
 "cells": [
  {
   "cell_type": "code",
   "execution_count": 5,
   "id": "bfca5ac4-48ba-43a6-8878-01df0c44195f",
   "metadata": {
    "tags": []
   },
   "outputs": [],
   "source": [
    "import os\n",
    "import pandas as pd\n",
    "from DateHarmonize import CSV_date"
   ]
  },
  {
   "cell_type": "code",
   "execution_count": 6,
   "id": "0ad62e69-b843-4fdf-9b61-452fe2c2f087",
   "metadata": {
    "tags": []
   },
   "outputs": [
    {
     "data": {
      "text/plain": [
       "['data_TRY/34148-plant-traits.csv',\n",
       " 'data_TRY/34151-plant-traits.csv',\n",
       " 'data_TRY/34176-plant-traits.csv']"
      ]
     },
     "execution_count": 6,
     "metadata": {},
     "output_type": "execute_result"
    }
   ],
   "source": [
    "output_dir = 'output'\n",
    "\n",
    "list_csv = list()\n",
    "\n",
    "for root, dirs, files in os.walk('data_TRY'):\n",
    "    for file in files:\n",
    "        list_csv.append(os.path.join(root, file))\n",
    "        \n",
    "list_csv"
   ]
  },
  {
   "cell_type": "code",
   "execution_count": 7,
   "id": "9bb4c7c1-40c6-4940-8373-5c25d0552d9c",
   "metadata": {
    "tags": []
   },
   "outputs": [
    {
     "name": "stdout",
     "output_type": "stream",
     "text": [
      "---\n",
      "processing: 34148-plant-traits\n"
     ]
    },
    {
     "name": "stderr",
     "output_type": "stream",
     "text": [
      "/tmp/ipykernel_10894/660553396.py:4: DtypeWarning: Columns (25,30,31) have mixed types. Specify dtype option on import or set low_memory=False.\n",
      "  df = pd.read_csv(table)\n"
     ]
    },
    {
     "name": "stdout",
     "output_type": "stream",
     "text": [
      "number of lines before: 41293 lines\n",
      "number of lines after: 27478 lines, 13815 NaN rows removed\n",
      "---\n",
      "processing: 34151-plant-traits\n",
      "number of lines before: 9048 lines\n",
      "number of lines after: 7626 lines, 1422 NaN rows removed\n",
      "---\n",
      "processing: 34176-plant-traits\n"
     ]
    },
    {
     "name": "stderr",
     "output_type": "stream",
     "text": [
      "/tmp/ipykernel_10894/660553396.py:4: DtypeWarning: Columns (3,29,30,31,32,33,34,38) have mixed types. Specify dtype option on import or set low_memory=False.\n",
      "  df = pd.read_csv(table)\n"
     ]
    },
    {
     "name": "stdout",
     "output_type": "stream",
     "text": [
      "number of lines before: 140316 lines\n",
      "number of lines after: 81766 lines, 58550 NaN rows removed\n"
     ]
    }
   ],
   "source": [
    "for table in list_csv:\n",
    "    filename = os.path.splitext(os.path.basename(table))[0]\n",
    "    print(f\"---\\nprocessing: {filename}\")\n",
    "    df = pd.read_csv(table)\n",
    "    size_start = len(df) \n",
    "    print(f\"number of lines before: {size_start} lines\")\n",
    "    # remove NaN in Date field\n",
    "    df = df.dropna(subset=['Date'])\n",
    "    size_NaN = size_start - len(df)\n",
    "    print(f\"number of lines after: {len(df)} lines, {size_NaN} NaN rows removed\")\n",
    "    # fix the date\n",
    "    df[['start_date', 'end_date']] = df['Date'].apply(lambda x: pd.Series(CSV_date(x).convert()))\n",
    "    df.to_csv(f\"{output_dir}/{filename}_filtered.csv\")\n",
    "## 32479 33380"
   ]
  },
  {
   "cell_type": "code",
   "execution_count": 8,
   "id": "77ad46fd-d09d-4ffe-afd4-55a134b6e9ef",
   "metadata": {
    "tags": []
   },
   "outputs": [
    {
     "name": "stdout",
     "output_type": "stream",
     "text": [
      "01\n"
     ]
    }
   ],
   "source": [
    "import re\n",
    "\n",
    "regex = r'^\\(((19|20)\\d{2})/((19|20)\\d{2})\\)-(0[1-9]|1[0-2])-(0[1-9]|[12][0-9]|3[01])$'\n",
    "chaine = \"(1989/1994)-05-01\"\n",
    "\n",
    "match = re.match(regex, chaine)\n",
    "print(match.group(6))\n",
    "\n",
    "\n"
   ]
  }
 ],
 "metadata": {
  "kernelspec": {
   "display_name": "Python 3 (ipykernel)",
   "language": "python",
   "name": "python3"
  },
  "language_info": {
   "codemirror_mode": {
    "name": "ipython",
    "version": 3
   },
   "file_extension": ".py",
   "mimetype": "text/x-python",
   "name": "python",
   "nbconvert_exporter": "python",
   "pygments_lexer": "ipython3",
   "version": "3.11.5"
  }
 },
 "nbformat": 4,
 "nbformat_minor": 5
}
